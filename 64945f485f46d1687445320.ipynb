{
  "cells": [
    {
      "cell_type": "markdown",
      "metadata": {
        "id": "view-in-github",
        "colab_type": "text"
      },
      "source": [
        "<a href=\"https://colab.research.google.com/github/1233san/1233san/blob/main/64945f485f46d1687445320.ipynb\" target=\"_parent\"><img src=\"https://colab.research.google.com/assets/colab-badge.svg\" alt=\"Open In Colab\"/></a>"
      ]
    },
    {
      "cell_type": "markdown",
      "id": "a0bea559",
      "metadata": {
        "id": "a0bea559"
      },
      "source": [
        "## Importing the libraries"
      ]
    },
    {
      "cell_type": "code",
      "execution_count": null,
      "id": "570c84e6",
      "metadata": {
        "id": "570c84e6"
      },
      "outputs": [],
      "source": [
        "# Numpy is used for numerical computations and working with arrays\n",
        "import numpy as np\n",
        "#Pandas is used for data manipulation and analysis\n",
        "import pandas as pd"
      ]
    },
    {
      "cell_type": "markdown",
      "id": "35f4252f",
      "metadata": {
        "id": "35f4252f"
      },
      "source": [
        "## Data Loading"
      ]
    },
    {
      "cell_type": "code",
      "source": [
        "from google.colab import drive\n",
        "drive.mount('/content/drive')"
      ],
      "metadata": {
        "id": "NWMqojNV_LwA",
        "colab": {
          "base_uri": "https://localhost:8080/"
        },
        "outputId": "729ddc3b-3f92-43b0-90f3-1b72c83e7c8a"
      },
      "id": "NWMqojNV_LwA",
      "execution_count": null,
      "outputs": [
        {
          "output_type": "stream",
          "name": "stdout",
          "text": [
            "Mounted at /content/drive\n"
          ]
        }
      ]
    },
    {
      "cell_type": "code",
      "source": [
        "#loading the data\n",
        "df=pd.read_excel('/content/drive/MyDrive/Colab Notebook/Restaurant_Reviews.xlsx')"
      ],
      "metadata": {
        "id": "PqDjpBGbGGMr"
      },
      "id": "PqDjpBGbGGMr",
      "execution_count": null,
      "outputs": []
    },
    {
      "cell_type": "markdown",
      "id": "698c2bf6",
      "metadata": {
        "id": "698c2bf6"
      },
      "source": [
        "## Data Analysis"
      ]
    },
    {
      "cell_type": "code",
      "execution_count": null,
      "id": "c63128e9",
      "metadata": {
        "id": "c63128e9",
        "outputId": "25cf07f6-a290-4c47-b9a6-973c5a01ba42"
      },
      "outputs": [
        {
          "data": {
            "text/plain": [
              "(1000, 2)"
            ]
          },
          "execution_count": 3,
          "metadata": {},
          "output_type": "execute_result"
        }
      ],
      "source": [
        "df.shape"
      ]
    },
    {
      "cell_type": "code",
      "execution_count": null,
      "id": "feb8f9aa",
      "metadata": {
        "id": "feb8f9aa",
        "outputId": "78a230f4-4c2b-4b1e-9728-6b628544540b"
      },
      "outputs": [
        {
          "data": {
            "text/plain": [
              "Index(['Review', 'Liked'], dtype='object')"
            ]
          },
          "execution_count": 4,
          "metadata": {},
          "output_type": "execute_result"
        }
      ],
      "source": [
        "df.columns"
      ]
    },
    {
      "cell_type": "code",
      "execution_count": null,
      "id": "6d909087",
      "metadata": {
        "id": "6d909087",
        "outputId": "ca79d37e-e2f0-46e7-f376-4788dd3e7738"
      },
      "outputs": [
        {
          "data": {
            "text/html": [
              "<div>\n",
              "<style scoped>\n",
              "    .dataframe tbody tr th:only-of-type {\n",
              "        vertical-align: middle;\n",
              "    }\n",
              "\n",
              "    .dataframe tbody tr th {\n",
              "        vertical-align: top;\n",
              "    }\n",
              "\n",
              "    .dataframe thead th {\n",
              "        text-align: right;\n",
              "    }\n",
              "</style>\n",
              "<table border=\"1\" class=\"dataframe\">\n",
              "  <thead>\n",
              "    <tr style=\"text-align: right;\">\n",
              "      <th></th>\n",
              "      <th>Review</th>\n",
              "      <th>Liked</th>\n",
              "    </tr>\n",
              "  </thead>\n",
              "  <tbody>\n",
              "    <tr>\n",
              "      <th>0</th>\n",
              "      <td>Wow... Loved this place.</td>\n",
              "      <td>1</td>\n",
              "    </tr>\n",
              "    <tr>\n",
              "      <th>1</th>\n",
              "      <td>Crust is not good.</td>\n",
              "      <td>0</td>\n",
              "    </tr>\n",
              "    <tr>\n",
              "      <th>2</th>\n",
              "      <td>Not tasty and the texture was just nasty.</td>\n",
              "      <td>0</td>\n",
              "    </tr>\n",
              "    <tr>\n",
              "      <th>3</th>\n",
              "      <td>Stopped by during the late May bank holiday of...</td>\n",
              "      <td>1</td>\n",
              "    </tr>\n",
              "    <tr>\n",
              "      <th>4</th>\n",
              "      <td>The selection on the menu was great and so wer...</td>\n",
              "      <td>1</td>\n",
              "    </tr>\n",
              "  </tbody>\n",
              "</table>\n",
              "</div>"
            ],
            "text/plain": [
              "                                              Review  Liked\n",
              "0                           Wow... Loved this place.      1\n",
              "1                                 Crust is not good.      0\n",
              "2          Not tasty and the texture was just nasty.      0\n",
              "3  Stopped by during the late May bank holiday of...      1\n",
              "4  The selection on the menu was great and so wer...      1"
            ]
          },
          "execution_count": 5,
          "metadata": {},
          "output_type": "execute_result"
        }
      ],
      "source": [
        "df.head()"
      ]
    },
    {
      "cell_type": "code",
      "execution_count": null,
      "id": "695e8384",
      "metadata": {
        "id": "695e8384",
        "outputId": "b741adbf-eb56-4724-cd76-0b031e123b33"
      },
      "outputs": [
        {
          "data": {
            "text/html": [
              "<div>\n",
              "<style scoped>\n",
              "    .dataframe tbody tr th:only-of-type {\n",
              "        vertical-align: middle;\n",
              "    }\n",
              "\n",
              "    .dataframe tbody tr th {\n",
              "        vertical-align: top;\n",
              "    }\n",
              "\n",
              "    .dataframe thead th {\n",
              "        text-align: right;\n",
              "    }\n",
              "</style>\n",
              "<table border=\"1\" class=\"dataframe\">\n",
              "  <thead>\n",
              "    <tr style=\"text-align: right;\">\n",
              "      <th></th>\n",
              "      <th>Review</th>\n",
              "      <th>Liked</th>\n",
              "    </tr>\n",
              "  </thead>\n",
              "  <tbody>\n",
              "    <tr>\n",
              "      <th>995</th>\n",
              "      <td>I think food should have flavor and texture an...</td>\n",
              "      <td>0</td>\n",
              "    </tr>\n",
              "    <tr>\n",
              "      <th>996</th>\n",
              "      <td>Appetite instantly gone.</td>\n",
              "      <td>0</td>\n",
              "    </tr>\n",
              "    <tr>\n",
              "      <th>997</th>\n",
              "      <td>Overall I was not impressed and would not go b...</td>\n",
              "      <td>0</td>\n",
              "    </tr>\n",
              "    <tr>\n",
              "      <th>998</th>\n",
              "      <td>The whole experience was underwhelming, and I ...</td>\n",
              "      <td>0</td>\n",
              "    </tr>\n",
              "    <tr>\n",
              "      <th>999</th>\n",
              "      <td>Then, as if I hadn't wasted enough of my life ...</td>\n",
              "      <td>0</td>\n",
              "    </tr>\n",
              "  </tbody>\n",
              "</table>\n",
              "</div>"
            ],
            "text/plain": [
              "                                                Review  Liked\n",
              "995  I think food should have flavor and texture an...      0\n",
              "996                           Appetite instantly gone.      0\n",
              "997  Overall I was not impressed and would not go b...      0\n",
              "998  The whole experience was underwhelming, and I ...      0\n",
              "999  Then, as if I hadn't wasted enough of my life ...      0"
            ]
          },
          "execution_count": 6,
          "metadata": {},
          "output_type": "execute_result"
        }
      ],
      "source": [
        "df.tail()"
      ]
    },
    {
      "cell_type": "code",
      "execution_count": null,
      "id": "ee575259",
      "metadata": {
        "scrolled": true,
        "id": "ee575259",
        "outputId": "3c06fa8c-597a-4790-c16e-c78ebf2245fe"
      },
      "outputs": [
        {
          "name": "stdout",
          "output_type": "stream",
          "text": [
            "<class 'pandas.core.frame.DataFrame'>\n",
            "RangeIndex: 1000 entries, 0 to 999\n",
            "Data columns (total 2 columns):\n",
            " #   Column  Non-Null Count  Dtype \n",
            "---  ------  --------------  ----- \n",
            " 0   Review  1000 non-null   object\n",
            " 1   Liked   1000 non-null   int64 \n",
            "dtypes: int64(1), object(1)\n",
            "memory usage: 15.8+ KB\n"
          ]
        }
      ],
      "source": [
        "df.info()"
      ]
    },
    {
      "cell_type": "code",
      "execution_count": null,
      "id": "911a5162",
      "metadata": {
        "id": "911a5162",
        "outputId": "de582f81-382c-4828-c69f-f2a64817afa9"
      },
      "outputs": [
        {
          "data": {
            "text/html": [
              "<div>\n",
              "<style scoped>\n",
              "    .dataframe tbody tr th:only-of-type {\n",
              "        vertical-align: middle;\n",
              "    }\n",
              "\n",
              "    .dataframe tbody tr th {\n",
              "        vertical-align: top;\n",
              "    }\n",
              "\n",
              "    .dataframe thead th {\n",
              "        text-align: right;\n",
              "    }\n",
              "</style>\n",
              "<table border=\"1\" class=\"dataframe\">\n",
              "  <thead>\n",
              "    <tr style=\"text-align: right;\">\n",
              "      <th></th>\n",
              "      <th>Liked</th>\n",
              "    </tr>\n",
              "  </thead>\n",
              "  <tbody>\n",
              "    <tr>\n",
              "      <th>count</th>\n",
              "      <td>1000.00000</td>\n",
              "    </tr>\n",
              "    <tr>\n",
              "      <th>mean</th>\n",
              "      <td>0.50000</td>\n",
              "    </tr>\n",
              "    <tr>\n",
              "      <th>std</th>\n",
              "      <td>0.50025</td>\n",
              "    </tr>\n",
              "    <tr>\n",
              "      <th>min</th>\n",
              "      <td>0.00000</td>\n",
              "    </tr>\n",
              "    <tr>\n",
              "      <th>25%</th>\n",
              "      <td>0.00000</td>\n",
              "    </tr>\n",
              "    <tr>\n",
              "      <th>50%</th>\n",
              "      <td>0.50000</td>\n",
              "    </tr>\n",
              "    <tr>\n",
              "      <th>75%</th>\n",
              "      <td>1.00000</td>\n",
              "    </tr>\n",
              "    <tr>\n",
              "      <th>max</th>\n",
              "      <td>1.00000</td>\n",
              "    </tr>\n",
              "  </tbody>\n",
              "</table>\n",
              "</div>"
            ],
            "text/plain": [
              "            Liked\n",
              "count  1000.00000\n",
              "mean      0.50000\n",
              "std       0.50025\n",
              "min       0.00000\n",
              "25%       0.00000\n",
              "50%       0.50000\n",
              "75%       1.00000\n",
              "max       1.00000"
            ]
          },
          "execution_count": 8,
          "metadata": {},
          "output_type": "execute_result"
        }
      ],
      "source": [
        "df.describe()"
      ]
    },
    {
      "cell_type": "code",
      "execution_count": null,
      "id": "44766966",
      "metadata": {
        "id": "44766966",
        "outputId": "461119af-102e-4b6c-92ba-d90341fbf3a3"
      },
      "outputs": [
        {
          "data": {
            "text/html": [
              "<div>\n",
              "<style scoped>\n",
              "    .dataframe tbody tr th:only-of-type {\n",
              "        vertical-align: middle;\n",
              "    }\n",
              "\n",
              "    .dataframe tbody tr th {\n",
              "        vertical-align: top;\n",
              "    }\n",
              "\n",
              "    .dataframe thead th {\n",
              "        text-align: right;\n",
              "    }\n",
              "</style>\n",
              "<table border=\"1\" class=\"dataframe\">\n",
              "  <thead>\n",
              "    <tr style=\"text-align: right;\">\n",
              "      <th></th>\n",
              "      <th>Review</th>\n",
              "      <th>Liked</th>\n",
              "    </tr>\n",
              "  </thead>\n",
              "  <tbody>\n",
              "    <tr>\n",
              "      <th>291</th>\n",
              "      <td>Just don't know why they were so slow.</td>\n",
              "      <td>0</td>\n",
              "    </tr>\n",
              "    <tr>\n",
              "      <th>545</th>\n",
              "      <td>Just spicy enough.. Perfect actually.</td>\n",
              "      <td>1</td>\n",
              "    </tr>\n",
              "    <tr>\n",
              "      <th>770</th>\n",
              "      <td>My sashimi was poor quality being soggy and ta...</td>\n",
              "      <td>0</td>\n",
              "    </tr>\n",
              "    <tr>\n",
              "      <th>107</th>\n",
              "      <td>The ambience is wonderful and there is music p...</td>\n",
              "      <td>1</td>\n",
              "    </tr>\n",
              "    <tr>\n",
              "      <th>524</th>\n",
              "      <td>Those burgers were amazing.</td>\n",
              "      <td>1</td>\n",
              "    </tr>\n",
              "  </tbody>\n",
              "</table>\n",
              "</div>"
            ],
            "text/plain": [
              "                                                Review  Liked\n",
              "291             Just don't know why they were so slow.      0\n",
              "545              Just spicy enough.. Perfect actually.      1\n",
              "770  My sashimi was poor quality being soggy and ta...      0\n",
              "107  The ambience is wonderful and there is music p...      1\n",
              "524                        Those burgers were amazing.      1"
            ]
          },
          "execution_count": 9,
          "metadata": {},
          "output_type": "execute_result"
        }
      ],
      "source": [
        "df.sample(5)"
      ]
    },
    {
      "cell_type": "code",
      "execution_count": null,
      "id": "8e23067d",
      "metadata": {
        "id": "8e23067d",
        "outputId": "0cf69701-28bb-4bdc-91e9-07b5c70c0198"
      },
      "outputs": [
        {
          "data": {
            "text/plain": [
              "Review    0\n",
              "Liked     0\n",
              "dtype: int64"
            ]
          },
          "execution_count": 10,
          "metadata": {},
          "output_type": "execute_result"
        }
      ],
      "source": [
        "df.isnull().sum()"
      ]
    },
    {
      "cell_type": "code",
      "execution_count": null,
      "id": "8e2a8400",
      "metadata": {
        "id": "8e2a8400",
        "outputId": "5d241df2-58d4-422c-ed0e-f1d41dcc88b7"
      },
      "outputs": [
        {
          "data": {
            "text/plain": [
              "1    500\n",
              "0    500\n",
              "Name: Liked, dtype: int64"
            ]
          },
          "execution_count": 11,
          "metadata": {},
          "output_type": "execute_result"
        }
      ],
      "source": [
        "df['Liked'].value_counts()"
      ]
    },
    {
      "cell_type": "markdown",
      "id": "e1b37a8c",
      "metadata": {
        "id": "e1b37a8c"
      },
      "source": [
        "# Feature Engineering"
      ]
    },
    {
      "cell_type": "code",
      "execution_count": null,
      "id": "6ad7a76c",
      "metadata": {
        "id": "6ad7a76c",
        "outputId": "52ebd2b6-5086-460c-e9ed-f2d5c0f02ebb"
      },
      "outputs": [
        {
          "data": {
            "text/html": [
              "<div>\n",
              "<style scoped>\n",
              "    .dataframe tbody tr th:only-of-type {\n",
              "        vertical-align: middle;\n",
              "    }\n",
              "\n",
              "    .dataframe tbody tr th {\n",
              "        vertical-align: top;\n",
              "    }\n",
              "\n",
              "    .dataframe thead th {\n",
              "        text-align: right;\n",
              "    }\n",
              "</style>\n",
              "<table border=\"1\" class=\"dataframe\">\n",
              "  <thead>\n",
              "    <tr style=\"text-align: right;\">\n",
              "      <th></th>\n",
              "      <th>Review</th>\n",
              "      <th>Liked</th>\n",
              "      <th>Length</th>\n",
              "    </tr>\n",
              "  </thead>\n",
              "  <tbody>\n",
              "    <tr>\n",
              "      <th>0</th>\n",
              "      <td>Wow... Loved this place.</td>\n",
              "      <td>1</td>\n",
              "      <td>24</td>\n",
              "    </tr>\n",
              "    <tr>\n",
              "      <th>1</th>\n",
              "      <td>Crust is not good.</td>\n",
              "      <td>0</td>\n",
              "      <td>18</td>\n",
              "    </tr>\n",
              "    <tr>\n",
              "      <th>2</th>\n",
              "      <td>Not tasty and the texture was just nasty.</td>\n",
              "      <td>0</td>\n",
              "      <td>41</td>\n",
              "    </tr>\n",
              "    <tr>\n",
              "      <th>3</th>\n",
              "      <td>Stopped by during the late May bank holiday of...</td>\n",
              "      <td>1</td>\n",
              "      <td>87</td>\n",
              "    </tr>\n",
              "    <tr>\n",
              "      <th>4</th>\n",
              "      <td>The selection on the menu was great and so wer...</td>\n",
              "      <td>1</td>\n",
              "      <td>59</td>\n",
              "    </tr>\n",
              "  </tbody>\n",
              "</table>\n",
              "</div>"
            ],
            "text/plain": [
              "                                              Review  Liked  Length\n",
              "0                           Wow... Loved this place.      1      24\n",
              "1                                 Crust is not good.      0      18\n",
              "2          Not tasty and the texture was just nasty.      0      41\n",
              "3  Stopped by during the late May bank holiday of...      1      87\n",
              "4  The selection on the menu was great and so wer...      1      59"
            ]
          },
          "execution_count": 12,
          "metadata": {},
          "output_type": "execute_result"
        }
      ],
      "source": [
        "df['Length'] = df['Review'].apply(len)\n",
        "df.head(5)"
      ]
    },
    {
      "cell_type": "markdown",
      "id": "b79f3997",
      "metadata": {
        "id": "b79f3997"
      },
      "source": [
        "# Data Preprocessing"
      ]
    },
    {
      "cell_type": "code",
      "execution_count": null,
      "id": "646e9ac1",
      "metadata": {
        "id": "646e9ac1",
        "outputId": "fd7204dc-9bfc-4c6e-f691-40abc5bf543c"
      },
      "outputs": [
        {
          "name": "stderr",
          "output_type": "stream",
          "text": [
            "[nltk_data] Downloading package stopwords to\n",
            "[nltk_data]     C:\\Users\\SATEESH\\AppData\\Roaming\\nltk_data...\n",
            "[nltk_data]   Package stopwords is already up-to-date!\n"
          ]
        }
      ],
      "source": [
        "# Importing the NLP Libraries\n",
        "import nltk\n",
        "import re\n",
        "# Download NLTK stopwords data\n",
        "nltk.download('stopwords')\n",
        "from nltk.corpus import stopwords\n",
        "from nltk.stem.porter import PorterStemmer\n",
        "from nltk.stem.snowball import SnowballStemmer\n",
        "stemmer = SnowballStemmer('english')"
      ]
    },
    {
      "cell_type": "code",
      "execution_count": null,
      "id": "98133f38",
      "metadata": {
        "id": "98133f38",
        "outputId": "5950e6cc-6f36-4c71-99cf-a90a35186d07"
      },
      "outputs": [
        {
          "name": "stdout",
          "output_type": "stream",
          "text": [
            "['i', 'me', 'my', 'myself', 'we', 'our', 'ours', 'ourselves', 'you', \"you're\", \"you've\", \"you'll\", \"you'd\", 'your', 'yours', 'yourself', 'yourselves', 'he', 'him', 'his', 'himself', 'she', \"she's\", 'her', 'hers', 'herself', 'it', \"it's\", 'its', 'itself', 'they', 'them', 'their', 'theirs', 'themselves', 'what', 'which', 'who', 'whom', 'this', 'that', \"that'll\", 'these', 'those', 'am', 'is', 'are', 'was', 'were', 'be', 'been', 'being', 'have', 'has', 'had', 'having', 'do', 'does', 'did', 'doing', 'a', 'an', 'the', 'and', 'but', 'if', 'or', 'because', 'as', 'until', 'while', 'of', 'at', 'by', 'for', 'with', 'about', 'against', 'between', 'into', 'through', 'during', 'before', 'after', 'above', 'below', 'to', 'from', 'up', 'down', 'in', 'out', 'on', 'off', 'over', 'under', 'again', 'further', 'then', 'once', 'here', 'there', 'when', 'where', 'why', 'how', 'all', 'any', 'both', 'each', 'few', 'more', 'most', 'other', 'some', 'such', 'no', 'nor', 'not', 'only', 'own', 'same', 'so', 'than', 'too', 'very', 's', 't', 'can', 'will', 'just', 'don', \"don't\", 'should', \"should've\", 'now', 'd', 'll', 'm', 'o', 're', 've', 'y', 'ain', 'aren', \"aren't\", 'couldn', \"couldn't\", 'didn', \"didn't\", 'doesn', \"doesn't\", 'hadn', \"hadn't\", 'hasn', \"hasn't\", 'haven', \"haven't\", 'isn', \"isn't\", 'ma', 'mightn', \"mightn't\", 'mustn', \"mustn't\", 'needn', \"needn't\", 'shan', \"shan't\", 'shouldn', \"shouldn't\", 'wasn', \"wasn't\", 'weren', \"weren't\", 'won', \"won't\", 'wouldn', \"wouldn't\"]\n"
          ]
        }
      ],
      "source": [
        "print(list(stopwords.words('english')))"
      ]
    },
    {
      "cell_type": "code",
      "execution_count": null,
      "id": "fdf3f7b2",
      "metadata": {
        "id": "fdf3f7b2"
      },
      "outputs": [],
      "source": [
        "# Cleaning the Reviews and Creating a Corpus\n",
        "corpus = []  # Initialize an empty list to store the cleaned reviews.\n",
        "\n",
        "# Loop through each review\n",
        "for i in range(len(df)):\n",
        "    # Clean and preprocess the review\n",
        "    review = re.sub('[^a-zA-Z]', ' ', df['Review'][i])  # Remove non-alphabetical characters\n",
        "    review = review.lower()  # Convert text to lowercase\n",
        "    review_words = review.split()  # Tokenization\n",
        "    review_words = [word for word in review_words if word not in set(stopwords.words('english'))]  # Remove Stop Words\n",
        "    review_words = [stemmer.stem(word) for word in review_words]  # Stemming\n",
        "    review = ' '.join(review_words)  # Rejoin Tokens\n",
        "    corpus.append(review)  # Append to Corpus"
      ]
    },
    {
      "cell_type": "code",
      "execution_count": null,
      "id": "6eedad33",
      "metadata": {
        "id": "6eedad33",
        "outputId": "1a658287-39fe-4ce7-9993-83395cf25b6a"
      },
      "outputs": [
        {
          "data": {
            "text/plain": [
              "['wow love place',\n",
              " 'crust good',\n",
              " 'tasti textur nasti',\n",
              " 'stop late may bank holiday rick steve recommend love',\n",
              " 'select menu great price',\n",
              " 'get angri want damn pho',\n",
              " 'honeslti tast fresh',\n",
              " 'potato like rubber could tell made ahead time kept warmer',\n",
              " 'fri great',\n",
              " 'great touch']"
            ]
          },
          "execution_count": 16,
          "metadata": {},
          "output_type": "execute_result"
        }
      ],
      "source": [
        "corpus[:10]"
      ]
    },
    {
      "cell_type": "markdown",
      "id": "c61ceacc",
      "metadata": {
        "id": "c61ceacc"
      },
      "source": [
        "# Creating a Bag of Words Model"
      ]
    },
    {
      "cell_type": "code",
      "execution_count": null,
      "id": "b44de209",
      "metadata": {
        "id": "b44de209"
      },
      "outputs": [],
      "source": [
        "from sklearn.feature_extraction.text import TfidfVectorizer\n",
        "tf = TfidfVectorizer(max_features=1500, min_df=2)\n",
        "x = tf.fit_transform(corpus).toarray() # Transform the text data into TF-IDF features\n",
        "X = tf.fit_transform(corpus).toarray()\n",
        "y = df['Liked'].values\n",
        "Y = df['Liked'].values"
      ]
    },
    {
      "cell_type": "markdown",
      "id": "291d058d",
      "metadata": {
        "id": "291d058d"
      },
      "source": [
        "# Data Splitting"
      ]
    },
    {
      "cell_type": "code",
      "execution_count": null,
      "id": "e04f99fe",
      "metadata": {
        "id": "e04f99fe"
      },
      "outputs": [],
      "source": [
        "from sklearn.model_selection import train_test_split, KFold\n",
        "X_train, X_test, y_train, y_test = train_test_split(X, y, test_size=0.2, random_state=41)"
      ]
    },
    {
      "cell_type": "code",
      "execution_count": null,
      "id": "d054a59d",
      "metadata": {
        "id": "d054a59d",
        "outputId": "89c1abcc-f0ba-4bd0-c39e-0cad08e289c6"
      },
      "outputs": [
        {
          "data": {
            "text/plain": [
              "((800, 693), (200, 693), (800,), (200,))"
            ]
          },
          "execution_count": 19,
          "metadata": {},
          "output_type": "execute_result"
        }
      ],
      "source": [
        "X_train.shape, X_test.shape, y_train.shape, y_test.shape"
      ]
    },
    {
      "cell_type": "code",
      "execution_count": null,
      "id": "c858c68c",
      "metadata": {
        "id": "c858c68c"
      },
      "outputs": [],
      "source": [
        "from sklearn.metrics import accuracy_score\n",
        "from sklearn.metrics import classification_report, accuracy_score"
      ]
    },
    {
      "cell_type": "markdown",
      "id": "5b4f4057",
      "metadata": {
        "id": "5b4f4057"
      },
      "source": [
        "# Model Training"
      ]
    },
    {
      "cell_type": "code",
      "execution_count": null,
      "id": "d816497b",
      "metadata": {
        "id": "d816497b"
      },
      "outputs": [],
      "source": [
        "from sklearn.ensemble import RandomForestClassifier\n",
        "from sklearn.svm import SVC\n",
        "from sklearn.metrics import confusion_matrix\n",
        "\n",
        "# Model-1: Random Forest\n",
        "rf_model = RandomForestClassifier(n_estimators=100, max_depth=6, min_samples_split=4, min_samples_leaf=2, random_state=41)\n",
        "num_folds = 11\n",
        "kf = KFold(n_splits=num_folds, shuffle=True, random_state=41)\n",
        "\n",
        "train_accuracies_rf = []\n",
        "test_accuracies_rf = []\n",
        "\n",
        "for train_index, test_index in kf.split(X):\n",
        "    X_train_rf, X_test_rf = X[train_index], X[test_index]\n",
        "    y_train_rf, y_test_rf = y[train_index], y[test_index]  # Use 'y' consistently\n",
        "\n",
        "    rf_model.fit(X_train_rf, y_train_rf)\n",
        "    y_train_pred_rf = rf_model.predict(X_train_rf)\n",
        "    y_test_pred_rf = rf_model.predict(X_test_rf)\n",
        "\n",
        "    train_accuracy_rf = accuracy_score(y_train_rf, y_train_pred_rf)\n",
        "    test_accuracy_rf = accuracy_score(y_test_rf, y_test_pred_rf)\n",
        "\n",
        "    train_accuracies_rf.append(train_accuracy_rf)\n",
        "    test_accuracies_rf.append(test_accuracy_rf)\n",
        "\n",
        "average_train_accuracy_rf = np.mean(train_accuracies_rf)\n",
        "average_test_accuracy_rf = np.mean(test_accuracies_rf)\n",
        "accuracy_difference_rf = abs(average_train_accuracy_rf - average_test_accuracy_rf)\n",
        "\n",
        "\n",
        "# Model-2: Support Vector Classifier (SVC)\n",
        "classifier = SVC(kernel='linear', C=0.1, random_state=40)\n",
        "\n",
        "train_accuracies_svc = []\n",
        "test_accuracies_svc = []\n",
        "\n",
        "classifier.fit(X_train, y_train)\n",
        "y_train_pred_svc = classifier.predict(X_train)\n",
        "y_test_pred_svc = classifier.predict(X_test)\n",
        "\n",
        "test_accuracy_svc = accuracy_score(y_test, y_test_pred_svc)\n",
        "train_accuracy_svc = accuracy_score(y_train, y_train_pred_svc)\n",
        "\n",
        "train_accuracies_svc.append(train_accuracy_svc)\n",
        "test_accuracies_svc.append(test_accuracy_svc)\n",
        "\n",
        "average_train_accuracy_svc = np.mean(train_accuracies_svc)\n",
        "average_test_accuracy_svc = np.mean(test_accuracies_svc)\n",
        "accuracy_difference_svc = abs(average_train_accuracy_svc - average_test_accuracy_svc)\n"
      ]
    },
    {
      "cell_type": "markdown",
      "id": "f2352939",
      "metadata": {
        "id": "f2352939"
      },
      "source": [
        "\n",
        "# Model Evaluation"
      ]
    },
    {
      "cell_type": "code",
      "execution_count": null,
      "id": "1a3b5a64",
      "metadata": {
        "id": "1a3b5a64",
        "outputId": "54d8a23e-f905-4248-a51b-c497bc8d60c8"
      },
      "outputs": [
        {
          "name": "stdout",
          "output_type": "stream",
          "text": [
            "Model-1 :: RandomForestClassifier\n",
            "Training Accuracy: 80.53%\n",
            "Testing Accuracy: 74.31%\n",
            "Accuracy Difference: 6.22%\n"
          ]
        }
      ],
      "source": [
        "print(\"Model-1 :: RandomForestClassifier\")\n",
        "print(f\"Training Accuracy: {average_train_accuracy_rf * 100:.2f}%\")\n",
        "print(f\"Testing Accuracy: {average_test_accuracy_rf * 100:.2f}%\")\n",
        "print(\"Accuracy Difference: {:.2f}%\".format(accuracy_difference_rf * 100))"
      ]
    },
    {
      "cell_type": "code",
      "execution_count": null,
      "id": "6f6631cf",
      "metadata": {
        "id": "6f6631cf",
        "outputId": "75987e40-99b0-4dc9-a280-cdef05c63205"
      },
      "outputs": [
        {
          "name": "stdout",
          "output_type": "stream",
          "text": [
            "Confusion Matrix of RandomForest :\n",
            "[[98  5]\n",
            " [28 69]]\n"
          ]
        }
      ],
      "source": [
        "print(\"Confusion Matrix of RandomForest :\")\n",
        "confusion_matrix_rf = confusion_matrix(y_test, rf_model.predict(X_test))\n",
        "print(confusion_matrix_rf)"
      ]
    },
    {
      "cell_type": "code",
      "execution_count": null,
      "id": "0535d613",
      "metadata": {
        "id": "0535d613",
        "outputId": "97670e60-ba34-4559-de4c-87cc81405e90"
      },
      "outputs": [
        {
          "name": "stdout",
          "output_type": "stream",
          "text": [
            "model-2 :: SVC\n",
            "Training Accuracy: 80.00%\n",
            "Testing Accuracy: 78.00%\n",
            "Accuracy Difference: 2.00%\n"
          ]
        }
      ],
      "source": [
        "print(\"model-2 :: SVC\")\n",
        "print(f\"Training Accuracy: {average_train_accuracy_svc * 100:.2f}%\")\n",
        "print(f\"Testing Accuracy: {average_test_accuracy_svc * 100:.2f}%\")\n",
        "print(\"Accuracy Difference: {:.2f}%\".format(accuracy_difference_svc * 100))"
      ]
    },
    {
      "cell_type": "code",
      "execution_count": null,
      "id": "5de5dcde",
      "metadata": {
        "id": "5de5dcde",
        "outputId": "ff94682e-e343-4fed-fd9d-376c55461fff"
      },
      "outputs": [
        {
          "name": "stdout",
          "output_type": "stream",
          "text": [
            "Confusion Matrix of SVC\n",
            "[[95  8]\n",
            " [36 61]]\n"
          ]
        }
      ],
      "source": [
        "print(\"Confusion Matrix of SVC\")\n",
        "confusion_matrix_svc = confusion_matrix(y_test, y_test_pred_svc)\n",
        "print(confusion_matrix_svc)"
      ]
    },
    {
      "cell_type": "markdown",
      "id": "f49a0b31",
      "metadata": {
        "id": "f49a0b31"
      },
      "source": [
        "# Predictions"
      ]
    },
    {
      "cell_type": "code",
      "execution_count": null,
      "id": "a0ce8ed7",
      "metadata": {
        "id": "a0ce8ed7",
        "outputId": "aa8fe448-1684-4ed5-a5a9-37edaf5d7512"
      },
      "outputs": [
        {
          "name": "stdout",
          "output_type": "stream",
          "text": [
            "Review: 'The food is really bad.'\n",
            "Sentiment: NEGATIVE\n",
            "\n",
            "Review: 'I love their delicious dishes!'\n",
            "Sentiment: POSITIVE\n",
            "\n",
            "Review: 'Terrible experience. Avoid this place.'\n",
            "Sentiment: NEGATIVE\n",
            "\n",
            "Review: 'The service was excellent.'\n",
            "Sentiment: POSITIVE\n",
            "\n",
            "Review: 'Worst place ever, but nice food'\n",
            "Sentiment: NEGATIVE\n",
            "\n"
          ]
        }
      ],
      "source": [
        "def predict_sentiment(sample_review, classifier, tf):\n",
        "    X =  tf.transform([review]).toarray()\n",
        "    # Use the pre-trained classifier to predict sentiment\n",
        "    sentiment = classifier.predict(X)\n",
        "\n",
        "    # Post-processing: Check for positive words\n",
        "    positive_words = [\"good\", \"excellent\", \"amazing\", \"delicious\"]  # Add more positive words as needed\n",
        "    for word in positive_words:\n",
        "        if word in sample_review.lower():\n",
        "            sentiment = [1]  # Override sentiment to positive\n",
        "\n",
        "    return sentiment[0]\n",
        "\n",
        "# Sample reviews as strings\n",
        "reviews = [\n",
        "    'The food is really bad.',\n",
        "    'I love their delicious dishes!',\n",
        "    'Terrible experience. Avoid this place.',\n",
        "    'The service was excellent.',\n",
        "    'Worst place ever, but nice food'\n",
        "]\n",
        "\n",
        "# Assuming you have already defined the 'predict_sentiment' function, classifier, and tf\n",
        "\n",
        "for review in reviews:\n",
        "    sentiment = predict_sentiment(review, classifier, tf)\n",
        "    if sentiment:\n",
        "        sentiment_label = 'POSITIVE'\n",
        "    else:\n",
        "        sentiment_label = 'NEGATIVE'\n",
        "\n",
        "    print(f\"Review: '{review}'\")\n",
        "    print(f\"Sentiment: {sentiment_label}\")\n",
        "    print()\n"
      ]
    }
  ],
  "metadata": {
    "kernelspec": {
      "display_name": "Python 3 (ipykernel)",
      "language": "python",
      "name": "python3"
    },
    "language_info": {
      "codemirror_mode": {
        "name": "ipython",
        "version": 3
      },
      "file_extension": ".py",
      "mimetype": "text/x-python",
      "name": "python",
      "nbconvert_exporter": "python",
      "pygments_lexer": "ipython3",
      "version": "3.9.12"
    },
    "colab": {
      "provenance": [],
      "include_colab_link": true
    }
  },
  "nbformat": 4,
  "nbformat_minor": 5
}